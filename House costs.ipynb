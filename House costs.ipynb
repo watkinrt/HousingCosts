{
 "cells": [
  {
   "cell_type": "code",
   "execution_count": 4,
   "metadata": {},
   "outputs": [],
   "source": [
    "from costs import interestComparison, cost"
   ]
  },
  {
   "cell_type": "markdown",
   "metadata": {},
   "source": [
    "# Compare different interest rates"
   ]
  },
  {
   "cell_type": "code",
   "execution_count": 8,
   "metadata": {},
   "outputs": [
    {
     "data": {
      "text/plain": [
       "\u001b[0;31mSignature:\u001b[0m \u001b[0minterestComparison\u001b[0m\u001b[0;34m(\u001b[0m\u001b[0mr1\u001b[0m\u001b[0;34m,\u001b[0m \u001b[0mr2\u001b[0m\u001b[0;34m,\u001b[0m \u001b[0mL\u001b[0m\u001b[0;34m,\u001b[0m \u001b[0mn\u001b[0m\u001b[0;34m=\u001b[0m\u001b[0;36m30\u001b[0m\u001b[0;34m)\u001b[0m\u001b[0;34m\u001b[0m\u001b[0;34m\u001b[0m\u001b[0m\n",
       "\u001b[0;31mDocstring:\u001b[0m\n",
       "Total cost comparison for 2 different interest rates \n",
       "\n",
       "Inputs\n",
       "---------\n",
       "r1, r2: float > 0\n",
       "    Unitless yearly interest rate (i.e., not as a percent)\n",
       "L: float > 0\n",
       "    Loan amount\n",
       "n: loan term in years (default at 30 years)\n",
       "\n",
       "Output\n",
       "------\n",
       "Prints a cost comparison between the 2 rates\n",
       "\u001b[0;31mFile:\u001b[0m      ~/Documents/Code/HouseFinancing/costs.py\n",
       "\u001b[0;31mType:\u001b[0m      function\n"
      ]
     },
     "metadata": {},
     "output_type": "display_data"
    }
   ],
   "source": [
    "interestComparison?"
   ]
  },
  {
   "cell_type": "code",
   "execution_count": 3,
   "metadata": {
    "tags": []
   },
   "outputs": [
    {
     "name": "stdout",
     "output_type": "stream",
     "text": [
      "Monthly mortgage 4.25%: $2,777\n",
      "Monthly mortgage 3.0%: $2,390\n",
      "Mortgage difference: $-387\n",
      "Total difference over 5 years: $-23,237\n",
      "Total difference over 10 years: $-46,475\n",
      "Total difference over loan term: $-134,776\n"
     ]
    }
   ],
   "source": [
    "interestComparison(4.25e-2, 3.0e-2, 555e3, 29)"
   ]
  },
  {
   "cell_type": "markdown",
   "metadata": {},
   "source": [
    "# Calculating house costs"
   ]
  },
  {
   "cell_type": "code",
   "execution_count": 7,
   "metadata": {},
   "outputs": [
    {
     "data": {
      "text/plain": [
       "\u001b[0;31mSignature:\u001b[0m\n",
       "\u001b[0mcost\u001b[0m\u001b[0;34m(\u001b[0m\u001b[0;34m\u001b[0m\n",
       "\u001b[0;34m\u001b[0m    \u001b[0mhouseCost\u001b[0m\u001b[0;34m=\u001b[0m\u001b[0;36m500000.0\u001b[0m\u001b[0;34m,\u001b[0m\u001b[0;34m\u001b[0m\n",
       "\u001b[0;34m\u001b[0m    \u001b[0mloanInterestRate\u001b[0m\u001b[0;34m=\u001b[0m\u001b[0;36m0.033\u001b[0m\u001b[0;34m,\u001b[0m\u001b[0;34m\u001b[0m\n",
       "\u001b[0;34m\u001b[0m    \u001b[0mtaxRate\u001b[0m\u001b[0;34m=\u001b[0m\u001b[0;36m0.00793\u001b[0m\u001b[0;34m,\u001b[0m\u001b[0;34m\u001b[0m\n",
       "\u001b[0;34m\u001b[0m    \u001b[0mdownpayment\u001b[0m\u001b[0;34m=\u001b[0m\u001b[0;36m0.2\u001b[0m\u001b[0;34m,\u001b[0m\u001b[0;34m\u001b[0m\n",
       "\u001b[0;34m\u001b[0m    \u001b[0mloanTerm\u001b[0m\u001b[0;34m=\u001b[0m\u001b[0;36m30\u001b[0m\u001b[0;34m,\u001b[0m\u001b[0;34m\u001b[0m\n",
       "\u001b[0;34m\u001b[0m    \u001b[0mmortgageInsurance\u001b[0m\u001b[0;34m=\u001b[0m\u001b[0;36m0.0075\u001b[0m\u001b[0;34m,\u001b[0m\u001b[0;34m\u001b[0m\n",
       "\u001b[0;34m\u001b[0m    \u001b[0mmortgateInsuranceYears\u001b[0m\u001b[0;34m=\u001b[0m\u001b[0;32mNone\u001b[0m\u001b[0;34m,\u001b[0m\u001b[0;34m\u001b[0m\n",
       "\u001b[0;34m\u001b[0m    \u001b[0mhoa\u001b[0m\u001b[0;34m=\u001b[0m\u001b[0;36m0.0\u001b[0m\u001b[0;34m,\u001b[0m\u001b[0;34m\u001b[0m\n",
       "\u001b[0;34m\u001b[0m    \u001b[0msize\u001b[0m\u001b[0;34m=\u001b[0m\u001b[0;36m2000.0\u001b[0m\u001b[0;34m,\u001b[0m\u001b[0;34m\u001b[0m\n",
       "\u001b[0;34m\u001b[0m    \u001b[0mmonthlyRent\u001b[0m\u001b[0;34m=\u001b[0m\u001b[0;36m2100\u001b[0m\u001b[0;34m,\u001b[0m\u001b[0;34m\u001b[0m\n",
       "\u001b[0;34m\u001b[0m    \u001b[0myearlyHomeInsurance\u001b[0m\u001b[0;34m=\u001b[0m\u001b[0;36m1800\u001b[0m\u001b[0;34m,\u001b[0m\u001b[0;34m\u001b[0m\n",
       "\u001b[0;34m\u001b[0m    \u001b[0myearlyEarthquakeInsurance\u001b[0m\u001b[0;34m=\u001b[0m\u001b[0;36m1200\u001b[0m\u001b[0;34m,\u001b[0m\u001b[0;34m\u001b[0m\n",
       "\u001b[0;34m\u001b[0m    \u001b[0minflation\u001b[0m\u001b[0;34m=\u001b[0m\u001b[0;36m0.03\u001b[0m\u001b[0;34m,\u001b[0m\u001b[0;34m\u001b[0m\n",
       "\u001b[0;34m\u001b[0m\u001b[0;34m)\u001b[0m\u001b[0;34m\u001b[0m\u001b[0;34m\u001b[0m\u001b[0m\n",
       "\u001b[0;31mDocstring:\u001b[0m\n",
       "Cost breakdown for mortgage \n",
       "\n",
       "Inputs\n",
       "------\n",
       "houseCost: float > 0 (default: $500k)\n",
       "    Cost of the house.\n",
       "loanInterestRate: float > 0 (default: 0.033)\n",
       "    Yearly interest rate on the mortgage (as a unitless number rather than a percentage)\n",
       "taxRate: float >= 0 (default: 0.00793)\n",
       "    Yearly property tax rate (as a unitless number rather than a percentage)\n",
       "downpayment: 0 < float < 1 or float > 1 (default: 0.2)\n",
       "    Downpayment amount. If between 0 and 1, assumed to be a percent of the house \n",
       "    cost as a unitless number (rather than a percentage). If greater than 1, \n",
       "    assumed to be a dollar amount.\n",
       "loanTerm: float > 0 (default: 30)\n",
       "    Loan term in years.\n",
       "mortgageInsurance: 0 < float < 1 or float > 1 (default: 0.0075)\n",
       "    Morgate insureance. If between 0 and 1, assumed to be a percent of the house cost as a unitless number \n",
       "    (rather than a percentage). If greater than 1, assumed to be a monthly dollar amount.\n",
       "mortgageInsurfaceYears: None or float > 0 (default: None)\n",
       "    Number of years that mortgage Insurance is required. If not specified, this is calculated\n",
       "    automatically.\n",
       "hoa: float >= 0 (default: 0)\n",
       "    Montlhy HOA fees\n",
       "size: float > 0 (default: 2000)\n",
       "    House square footage. This number is used to estimate house upkeep costs.\n",
       "monthlyRent: float >= 0 (default: 2100)\n",
       "    Currently montly rent cost. This is just used as a cost comparison point and can be set\n",
       "    to zero if not relevant.\n",
       "yearlyHomeInsurance: float > 0 (default: 1800)\n",
       "    Yearly cost of home owners insurance.\n",
       "yearlyEarthquakeInsurance: float >= 0 (default: 1200)\n",
       "    Yearly cost for earthquake insurance \n",
       "inflation: float >=0 (default: 0.03)\n",
       "    Assumed inflation rate over the term of the loan as a unitless number (rather than a percentage)\n",
       "\n",
       "Output\n",
       "------\n",
       "Printout of loan comparison details. Notes:\n",
       "    - \"Nonreturnable\" corresponds to costs that you never see again; \n",
       "    for example, rent, taxes, nterest, upkeep, etc. These numbers help deconflate \n",
       "    the true value of your equity.\n",
       "    - \"Total\" costs refer to the baseline cost plus additional nonreturnable costs.\n",
       "    - Upkeep costs are estimated based 1$/ft^2 per year.\n",
       "\u001b[0;31mFile:\u001b[0m      ~/Documents/Code/HouseFinancing/costs.py\n",
       "\u001b[0;31mType:\u001b[0m      function\n"
      ]
     },
     "metadata": {},
     "output_type": "display_data"
    }
   ],
   "source": [
    "cost?"
   ]
  },
  {
   "cell_type": "code",
   "execution_count": 2,
   "metadata": {},
   "outputs": [
    {
     "name": "stdout",
     "output_type": "stream",
     "text": [
      "House cost: $450,000\n",
      "20% Downpayment: $90,000\n",
      "Total morgage insurance cost: $0 over 0.0 years\n",
      "Nonreturnable house cost: $389,471\n",
      "Inflated nonreturnable apartment cost: $1,293,671\n",
      "Nonreturnable apartment cost: $792,000\n",
      "Total house cost: $839,471\n",
      "Morgage details\n",
      "  Morgage interest rate: 3.8%\n",
      "  Loan term: 30 months\n",
      "Initial costs: $109,690\n",
      "  Downpayment = $100,000\n",
      "  Closing costs = $9,690\n",
      "Monthly costs: $2,305\n",
      "  Morgage: $1,621\n",
      "  Taxes: $297\n",
      "  Morgage insurance: $0\n",
      "  Homeowners insurance: $120\n",
      "  Earthquake insurance: $100\n",
      "  HOA fees: $0\n",
      "  Upkeep costs: $167\n",
      "Post-PMI monthly costs: $2,305\n",
      "Post-morgage monthly costs: $684\n",
      "\n",
      "House cost: $500,000\n",
      "20% Downpayment: $100,000\n",
      "Total morgage insurance cost: $0 over 0.0 years\n",
      "Nonreturnable house cost: $435,326\n",
      "Inflated nonreturnable apartment cost: $1,293,671\n",
      "Nonreturnable apartment cost: $792,000\n",
      "Total house cost: $935,326\n",
      "Morgage details\n",
      "  Morgage interest rate: 3.8%\n",
      "  Loan term: 30 months\n",
      "Initial costs: $110,290\n",
      "  Downpayment = $100,000\n",
      "  Closing costs = $10,290\n",
      "Monthly costs: $2,570\n",
      "  Morgage: $1,852\n",
      "  Taxes: $330\n",
      "  Morgage insurance: $0\n",
      "  Homeowners insurance: $120\n",
      "  Earthquake insurance: $100\n",
      "  HOA fees: $0\n",
      "  Upkeep costs: $167\n",
      "Post-PMI monthly costs: $2,570\n",
      "Post-morgage monthly costs: $717\n",
      "\n",
      "House cost: $550,000\n",
      "20% Downpayment: $110,000\n",
      "Total morgage insurance cost: $13,750 over 2.5 years\n",
      "Nonreturnable house cost: $494,932\n",
      "Inflated nonreturnable apartment cost: $1,293,671\n",
      "Nonreturnable apartment cost: $792,000\n",
      "Total house cost: $1,044,932\n",
      "Morgage details\n",
      "  Morgage interest rate: 3.8%\n",
      "  Loan term: 30 months\n",
      "Initial costs: $110,890\n",
      "  Downpayment = $100,000\n",
      "  Closing costs = $10,890\n",
      "Monthly costs: $3,292\n",
      "  Morgage: $2,084\n",
      "  Taxes: $363\n",
      "  Morgage insurance: $458\n",
      "  Homeowners insurance: $120\n",
      "  Earthquake insurance: $100\n",
      "  HOA fees: $0\n",
      "  Upkeep costs: $167\n",
      "Post-PMI monthly costs: $2,834\n",
      "Post-morgage monthly costs: $750\n",
      "\n",
      "House cost: $600,000\n",
      "20% Downpayment: $120,000\n",
      "Total morgage insurance cost: $20,000 over 3.3 years\n",
      "Nonreturnable house cost: $547,038\n",
      "Inflated nonreturnable apartment cost: $1,293,671\n",
      "Nonreturnable apartment cost: $792,000\n",
      "Total house cost: $1,147,038\n",
      "Morgage details\n",
      "  Morgage interest rate: 3.8%\n",
      "  Loan term: 30 months\n",
      "Initial costs: $111,490\n",
      "  Downpayment = $100,000\n",
      "  Closing costs = $11,490\n",
      "Monthly costs: $3,599\n",
      "  Morgage: $2,316\n",
      "  Taxes: $396\n",
      "  Morgage insurance: $500\n",
      "  Homeowners insurance: $120\n",
      "  Earthquake insurance: $100\n",
      "  HOA fees: $0\n",
      "  Upkeep costs: $167\n",
      "Post-PMI monthly costs: $3,099\n",
      "Post-morgage monthly costs: $783\n",
      "\n",
      "House cost: $650,000\n",
      "20% Downpayment: $130,000\n",
      "Total morgage insurance cost: $26,542 over 4.1 years\n",
      "Nonreturnable house cost: $599,436\n",
      "Inflated nonreturnable apartment cost: $1,293,671\n",
      "Nonreturnable apartment cost: $792,000\n",
      "Total house cost: $1,249,436\n",
      "Morgage details\n",
      "  Morgage interest rate: 3.8%\n",
      "  Loan term: 30 months\n",
      "Initial costs: $112,090\n",
      "  Downpayment = $100,000\n",
      "  Closing costs = $12,090\n",
      "Monthly costs: $3,905\n",
      "  Morgage: $2,547\n",
      "  Taxes: $430\n",
      "  Morgage insurance: $542\n",
      "  Homeowners insurance: $120\n",
      "  Earthquake insurance: $100\n",
      "  HOA fees: $0\n",
      "  Upkeep costs: $167\n",
      "Post-PMI monthly costs: $3,363\n",
      "Post-morgage monthly costs: $816\n",
      "\n",
      "House cost: $700,000\n",
      "20% Downpayment: $140,000\n",
      "Total morgage insurance cost: $32,083 over 4.6 years\n",
      "Nonreturnable house cost: $650,833\n",
      "Inflated nonreturnable apartment cost: $1,293,671\n",
      "Nonreturnable apartment cost: $792,000\n",
      "Total house cost: $1,350,833\n",
      "Morgage details\n",
      "  Morgage interest rate: 3.8%\n",
      "  Loan term: 30 months\n",
      "Initial costs: $112,690\n",
      "  Downpayment = $100,000\n",
      "  Closing costs = $12,690\n",
      "Monthly costs: $4,211\n",
      "  Morgage: $2,779\n",
      "  Taxes: $463\n",
      "  Morgage insurance: $583\n",
      "  Homeowners insurance: $120\n",
      "  Earthquake insurance: $100\n",
      "  HOA fees: $0\n",
      "  Upkeep costs: $167\n",
      "Post-PMI monthly costs: $3,628\n",
      "Post-morgage monthly costs: $849\n",
      "\n"
     ]
    }
   ],
   "source": [
    "for price in range(450000, 700001, 50000):\n",
    "    cost(price, downpayment=100000,\n",
    "         yearlyHomeInsurance=120*12,\n",
    "         hoa=0., monthlyRent=2200, \n",
    "         loanInterestRate=0.0375, \n",
    "         mortgageInsurance=0.01, mortgateInsuranceYears=None)"
   ]
  },
  {
   "cell_type": "code",
   "execution_count": null,
   "metadata": {},
   "outputs": [],
   "source": []
  }
 ],
 "metadata": {
  "hide_input": false,
  "kernelspec": {
   "display_name": "Python 3 (ipykernel)",
   "language": "python",
   "name": "python3"
  },
  "language_info": {
   "codemirror_mode": {
    "name": "ipython",
    "version": 3
   },
   "file_extension": ".py",
   "mimetype": "text/x-python",
   "name": "python",
   "nbconvert_exporter": "python",
   "pygments_lexer": "ipython3",
   "version": "3.8.11"
  },
  "toc": {
   "toc_cell": false,
   "toc_number_sections": true,
   "toc_threshold": 6,
   "toc_window_display": false
  }
 },
 "nbformat": 4,
 "nbformat_minor": 4
}
