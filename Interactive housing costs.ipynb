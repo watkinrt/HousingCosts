{
 "cells": [
  {
   "cell_type": "code",
   "execution_count": 24,
   "metadata": {},
   "outputs": [],
   "source": [
    "import costs\n",
    "import ipywidgets as widgets\n",
    "from ipywidgets import Layout\n",
    "from IPython.display import clear_output"
   ]
  },
  {
   "cell_type": "code",
   "execution_count": 25,
   "metadata": {},
   "outputs": [],
   "source": [
    "layout = Layout(width=\"50%\")\n",
    "style = {'description_width': 'initial'}"
   ]
  },
  {
   "cell_type": "code",
   "execution_count": 26,
   "metadata": {},
   "outputs": [],
   "source": [
    "monthlyRentWidget = widgets.IntSlider(description=\"Current monthly rent\", min=0, max=5e3, value=2e3, readout_format='$,d', step=25, continuous_update=False, layout=layout, style=style)\n",
    "houseCostWidget = widgets.IntSlider(description=\"House cost\", min=0, max=2000e3, value=300e3, readout_format='$,d', step=5e3, continuous_update=False, layout=layout, style=style)\n",
    "squareFootageWidget = widgets.IntSlider(description=\"Square footage (sq ft)\", min=0, max=8000, value=2e3, readout_format=',d', step=10, continuous_update=False, layout=layout, style=style)\n",
    "loanInterestWidget = widgets.FloatSlider(description=\"Yearly loan interest (%)\", min=0, max=10, value=3.5, readout_format='.3f', step=0.005, continuous_update=False, layout=layout, style=style)\n",
    "taxRateWidget = widgets.FloatSlider(description=\"Tax rate (%)\", min=0, max=5, value=1, readout_format='.3f', step=0.005, continuous_update=False, layout=layout, style=style)\n",
    "pmiRateWidget = widgets.FloatSlider(description=\"PMI rate (%)\", min=0, max=2, value=.75, readout_format='.3f', step=0.05, continuous_update=False, layout=layout, style=style)\n",
    "downPaymentWidget = widgets.FloatSlider(description=\"Downpayment (%)\", min=0, max=100, value=20, readout_format='d', continuous_update=False, layout=layout, style=style)\n",
    "inflationWidget = widgets.FloatSlider(description=\"Inflation (%)\", min=0, max=5, value=3, readout_format='.2f', continuous_update=False, layout=layout, style=style)\n",
    "hoaWidget = widgets.IntSlider(description=\"HOA\", min=0, max=1000, value=250, readout_format='$,d', step=10, continuous_update=False, layout=layout, style=style)\n",
    "insuranceWidget = widgets.IntSlider(description=\"Yeaarly homeowners insurance\", min=0, max=8000, value=2000, readout_format='$,d', step=100, continuous_update=False, layout=layout, style=style)\n",
    "loanTermWidget = widgets.IntSlider(description=\"Loan term\", min=0, max=30, value=30, readout_format=',d', step=5, continuous_update=False, layout=layout, style=style)\n",
    "mortgageOutput = widgets.Output()"
   ]
  },
  {
   "cell_type": "code",
   "execution_count": 27,
   "metadata": {},
   "outputs": [],
   "source": [
    "loanAmountWidget = widgets.IntSlider(description=\"Loan ammount\", min=0, max=2000e3, value=300e3, readout_format='$,d', step=5e3, continuous_update=False, layout=layout, style=style)\n",
    "loanTermComparisonWidget = widgets.IntSlider(description=\"Loan term (years)\", min=0, max=30, value=30, readout_format=',d', step=5, continuous_update=False, layout=layout, style=style)\n",
    "interest1Widget = widgets.FloatSlider(description=\"Interest rate 1 (%)\", min=0, max=10, value=3.5, readout_format='.3f', step=0.005, continuous_update=False, layout=layout, style=style)\n",
    "interest2Widget = widgets.FloatSlider(description=\"Interest rate 2 (%)\", min=0, max=10, value=3., readout_format='.3f', step=0.005, continuous_update=False, layout=layout, style=style)\n",
    "outputInterest = widgets.Output()"
   ]
  },
  {
   "cell_type": "code",
   "execution_count": 28,
   "metadata": {},
   "outputs": [],
   "source": [
    "# def interestComparison(r1, r2, L, n=30):\n",
    "def interestComparison(evnt):\n",
    "    \"\"\" Total cost comparison for 2 different interest rates \"\"\"\n",
    "    \n",
    "    L = loanAmountWidget.value\n",
    "    n = loanTermComparisonWidget.value\n",
    "    r1 = interest1Widget.value/100.\n",
    "    r2 = interest2Widget.value/100.\n",
    "    \n",
    "    with outputInterest:\n",
    "        clear_output(wait=True)\n",
    "        costs.interestComparison(r1, r2, L, n)\n",
    "\n",
    "def cost(evnt):\n",
    "    \n",
    "    houseCost = houseCostWidget.value\n",
    "    loanInterestRate = loanInterestWidget.value/100.\n",
    "    taxRate = taxRateWidget.value/100.\n",
    "    downpayment = downPaymentWidget.value/100.\n",
    "    loanTerm = loanTermWidget.value\n",
    "    mortgageInsurance = pmiRateWidget.value/100.\n",
    "    mortgateInsuranceYears = None\n",
    "    hoa = hoaWidget.value\n",
    "    size = squareFootageWidget.value\n",
    "    monthlyRent = monthlyRentWidget.value\n",
    "    yearlyHomeInsurance = insuranceWidget.value\n",
    "    yearlyEarthquakeInsurance = 0\n",
    "    inflation = inflationWidget.value/100.\n",
    "    \n",
    "    with mortgageOutput:\n",
    "        clear_output(wait=True)\n",
    "        costs.cost(houseCost=houseCost, loanInterestRate=loanInterestRate, taxRate=taxRate,\n",
    "              downpayment=downpayment, loanTerm=loanTerm, mortgageInsurance=mortgageInsurance,\n",
    "              mortgateInsuranceYears=mortgateInsuranceYears, hoa=hoa, size=size,\n",
    "              monthlyRent=monthlyRent, yearlyHomeInsurance=yearlyHomeInsurance, \n",
    "              yearlyEarthquakeInsurance=yearlyEarthquakeInsurance, inflation=inflation)\n",
    "    \n",
    "    \n",
    "\n",
    "loanAmountWidget.observe(interestComparison, names=\"value\")\n",
    "loanTermComparisonWidget.observe(interestComparison, names=\"value\")\n",
    "interest1Widget.observe(interestComparison, names=\"value\")\n",
    "interest2Widget.observe(interestComparison, names=\"value\")\n",
    "\n",
    "monthlyRentWidget.observe(cost, names=\"value\")\n",
    "houseCostWidget.observe(cost, names=\"value\")\n",
    "squareFootageWidget.observe(cost, names=\"value\")\n",
    "loanInterestWidget.observe(cost, names=\"value\")\n",
    "taxRateWidget.observe(cost, names=\"value\")\n",
    "pmiRateWidget.observe(cost, names=\"value\")\n",
    "downPaymentWidget.observe(cost, names=\"value\")\n",
    "inflationWidget.observe(cost, names=\"value\")\n",
    "hoaWidget.observe(cost, names=\"value\")\n",
    "insuranceWidget.observe(cost, names=\"value\")\n",
    "loanTermWidget.observe(cost, names=\"value\")"
   ]
  },
  {
   "cell_type": "markdown",
   "metadata": {},
   "source": [
    "# Compare 2 interest rates"
   ]
  },
  {
   "cell_type": "code",
   "execution_count": 29,
   "metadata": {},
   "outputs": [
    {
     "data": {
      "application/vnd.jupyter.widget-view+json": {
       "model_id": "8e19d3d9f4b6433cad542d1bddc767c5",
       "version_major": 2,
       "version_minor": 0
      },
      "text/plain": [
       "IntSlider(value=300000, continuous_update=False, description='Loan ammount', layout=Layout(width='50%'), max=2…"
      ]
     },
     "metadata": {},
     "output_type": "display_data"
    },
    {
     "data": {
      "application/vnd.jupyter.widget-view+json": {
       "model_id": "ae635e5b7e5f4862b7609dd5339aca5a",
       "version_major": 2,
       "version_minor": 0
      },
      "text/plain": [
       "IntSlider(value=30, continuous_update=False, description='Loan term (years)', layout=Layout(width='50%'), max=…"
      ]
     },
     "metadata": {},
     "output_type": "display_data"
    },
    {
     "data": {
      "application/vnd.jupyter.widget-view+json": {
       "model_id": "234cae2793f246a6b9cc7ec230305316",
       "version_major": 2,
       "version_minor": 0
      },
      "text/plain": [
       "FloatSlider(value=3.5, continuous_update=False, description='Interest rate 1 (%)', layout=Layout(width='50%'),…"
      ]
     },
     "metadata": {},
     "output_type": "display_data"
    },
    {
     "data": {
      "application/vnd.jupyter.widget-view+json": {
       "model_id": "2bd62ccb21ca42f89ad9ece60d7ffdfe",
       "version_major": 2,
       "version_minor": 0
      },
      "text/plain": [
       "FloatSlider(value=3.0, continuous_update=False, description='Interest rate 2 (%)', layout=Layout(width='50%'),…"
      ]
     },
     "metadata": {},
     "output_type": "display_data"
    },
    {
     "data": {
      "application/vnd.jupyter.widget-view+json": {
       "model_id": "c12164caf15a4137b5c4154b8073adea",
       "version_major": 2,
       "version_minor": 0
      },
      "text/plain": [
       "Output()"
      ]
     },
     "metadata": {},
     "output_type": "display_data"
    }
   ],
   "source": [
    "interestComparison(None)\n",
    "display(loanAmountWidget)\n",
    "display(loanTermComparisonWidget)\n",
    "display(interest1Widget)\n",
    "display(interest2Widget)\n",
    "display(outputInterest)"
   ]
  },
  {
   "cell_type": "markdown",
   "metadata": {},
   "source": [
    "# Housing costs breakdown"
   ]
  },
  {
   "cell_type": "code",
   "execution_count": 30,
   "metadata": {},
   "outputs": [
    {
     "data": {
      "application/vnd.jupyter.widget-view+json": {
       "model_id": "3c4a4c08150942b49293a443bac4340f",
       "version_major": 2,
       "version_minor": 0
      },
      "text/plain": [
       "IntSlider(value=2000, continuous_update=False, description='Current monthly rent', layout=Layout(width='50%'),…"
      ]
     },
     "metadata": {},
     "output_type": "display_data"
    },
    {
     "data": {
      "application/vnd.jupyter.widget-view+json": {
       "model_id": "94aafee5871749ceb0b01ec5e70f4a77",
       "version_major": 2,
       "version_minor": 0
      },
      "text/plain": [
       "IntSlider(value=300000, continuous_update=False, description='House cost', layout=Layout(width='50%'), max=200…"
      ]
     },
     "metadata": {},
     "output_type": "display_data"
    },
    {
     "data": {
      "application/vnd.jupyter.widget-view+json": {
       "model_id": "8d98a7c9a1624fbcb358224c7d866931",
       "version_major": 2,
       "version_minor": 0
      },
      "text/plain": [
       "IntSlider(value=2000, continuous_update=False, description='Square footage (sq ft)', layout=Layout(width='50%'…"
      ]
     },
     "metadata": {},
     "output_type": "display_data"
    },
    {
     "data": {
      "application/vnd.jupyter.widget-view+json": {
       "model_id": "08eb7d60fda040d28f4abbb09f8dcb82",
       "version_major": 2,
       "version_minor": 0
      },
      "text/plain": [
       "FloatSlider(value=3.5, continuous_update=False, description='Yearly loan interest (%)', layout=Layout(width='5…"
      ]
     },
     "metadata": {},
     "output_type": "display_data"
    },
    {
     "data": {
      "application/vnd.jupyter.widget-view+json": {
       "model_id": "c91a4ac67d784433aa144daf075157d0",
       "version_major": 2,
       "version_minor": 0
      },
      "text/plain": [
       "FloatSlider(value=1.0, continuous_update=False, description='Tax rate (%)', layout=Layout(width='50%'), max=5.…"
      ]
     },
     "metadata": {},
     "output_type": "display_data"
    },
    {
     "data": {
      "application/vnd.jupyter.widget-view+json": {
       "model_id": "eadd13512235468d9d6afd232c4198c5",
       "version_major": 2,
       "version_minor": 0
      },
      "text/plain": [
       "FloatSlider(value=0.75, continuous_update=False, description='PMI rate (%)', layout=Layout(width='50%'), max=2…"
      ]
     },
     "metadata": {},
     "output_type": "display_data"
    },
    {
     "data": {
      "application/vnd.jupyter.widget-view+json": {
       "model_id": "256bb6a03353433e82712838c350f188",
       "version_major": 2,
       "version_minor": 0
      },
      "text/plain": [
       "FloatSlider(value=20.0, continuous_update=False, description='Downpayment (%)', layout=Layout(width='50%'), re…"
      ]
     },
     "metadata": {},
     "output_type": "display_data"
    },
    {
     "data": {
      "application/vnd.jupyter.widget-view+json": {
       "model_id": "eebac16a5d764ca98f99fde963a8fddc",
       "version_major": 2,
       "version_minor": 0
      },
      "text/plain": [
       "FloatSlider(value=3.0, continuous_update=False, description='Inflation (%)', layout=Layout(width='50%'), max=5…"
      ]
     },
     "metadata": {},
     "output_type": "display_data"
    },
    {
     "data": {
      "application/vnd.jupyter.widget-view+json": {
       "model_id": "b363494ad4d94f978a4fc2a92159ef53",
       "version_major": 2,
       "version_minor": 0
      },
      "text/plain": [
       "IntSlider(value=250, continuous_update=False, description='HOA', layout=Layout(width='50%'), max=1000, readout…"
      ]
     },
     "metadata": {},
     "output_type": "display_data"
    },
    {
     "data": {
      "application/vnd.jupyter.widget-view+json": {
       "model_id": "cbc9ad8836d448189907f4066bd70b9b",
       "version_major": 2,
       "version_minor": 0
      },
      "text/plain": [
       "IntSlider(value=2000, continuous_update=False, description='Yeaarly homeowners insurance', layout=Layout(width…"
      ]
     },
     "metadata": {},
     "output_type": "display_data"
    },
    {
     "data": {
      "application/vnd.jupyter.widget-view+json": {
       "model_id": "298d365ccef945c1a60714b587cc598a",
       "version_major": 2,
       "version_minor": 0
      },
      "text/plain": [
       "IntSlider(value=30, continuous_update=False, description='Loan term', layout=Layout(width='50%'), max=30, read…"
      ]
     },
     "metadata": {},
     "output_type": "display_data"
    },
    {
     "data": {
      "application/vnd.jupyter.widget-view+json": {
       "model_id": "5f6c442d04894be8adc02e33a25fb730",
       "version_major": 2,
       "version_minor": 0
      },
      "text/plain": [
       "Output()"
      ]
     },
     "metadata": {},
     "output_type": "display_data"
    }
   ],
   "source": [
    "cost(None)\n",
    "display(monthlyRentWidget)\n",
    "display(houseCostWidget)\n",
    "display(squareFootageWidget)\n",
    "display(loanInterestWidget)\n",
    "display(taxRateWidget)\n",
    "display(pmiRateWidget)\n",
    "display(downPaymentWidget)\n",
    "display(inflationWidget)\n",
    "display(hoaWidget)\n",
    "display(insuranceWidget)\n",
    "display(loanTermWidget)\n",
    "display(mortgageOutput)"
   ]
  },
  {
   "cell_type": "code",
   "execution_count": null,
   "metadata": {},
   "outputs": [],
   "source": []
  },
  {
   "cell_type": "code",
   "execution_count": null,
   "metadata": {},
   "outputs": [],
   "source": []
  }
 ],
 "metadata": {
  "kernelspec": {
   "display_name": "Python 3 (ipykernel)",
   "language": "python",
   "name": "python3"
  },
  "language_info": {
   "codemirror_mode": {
    "name": "ipython",
    "version": 3
   },
   "file_extension": ".py",
   "mimetype": "text/x-python",
   "name": "python",
   "nbconvert_exporter": "python",
   "pygments_lexer": "ipython3",
   "version": "3.8.11"
  }
 },
 "nbformat": 4,
 "nbformat_minor": 4
}
